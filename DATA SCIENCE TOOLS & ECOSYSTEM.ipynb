{
 "cells": [
  {
   "cell_type": "markdown",
   "id": "0ecec666",
   "metadata": {},
   "source": [
    "# DATA SCIENE TOOLS & ECOSYSTEM"
   ]
  },
  {
   "cell_type": "markdown",
   "id": "373569c4",
   "metadata": {},
   "source": [
    "#Here, we are going to explore Data Science Tools in a a summarized way."
   ]
  },
  {
   "cell_type": "markdown",
   "id": "666ab459",
   "metadata": {},
   "source": [
    "Some of the popular languages that Data Scienctists use are:\n",
    "1. Python\n",
    "2. R\n",
    "3. SQL \n",
    "4. Scala\n",
    "5. Java\n",
    "6. C++\n",
    "7. Julia\n",
    "8. Javascript\n",
    "9. Php\n",
    "10. Go\n",
    "11. Ruby\n",
    "12. Visual Basic"
   ]
  },
  {
   "cell_type": "markdown",
   "id": "75770265",
   "metadata": {},
   "source": [
    "# Commonly used libraries that Data Scientists use are:\n",
    " 1. Pandas\n",
    " 2. Numpy\n",
    " 3. Matplotlib\n",
    " 4. Seaborn\n",
    " 5. Scikit-learn\n",
    " 6. Keras\n",
    " 7. Tensorflow\n",
    " 8. PyTorch\n",
    " 9. Apache Spark\n",
    "10. Vegas\n",
    "11. Big DL\n",
    "12. Ggplot2\n",
    "    "
   ]
  },
  {
   "cell_type": "markdown",
   "id": "66269e1b",
   "metadata": {},
   "source": [
    "|DataScience Tools|\n",
    "|:---------------:|\n",
    "| Apache Spark    |\n",
    "| Python          |\n",
    "| Tableau         |\n",
    "| Zepplin         |"
   ]
  },
  {
   "cell_type": "markdown",
   "id": "c838e6ec",
   "metadata": {},
   "source": [
    "# Below are a few examples of evaluating arithmetic expressions in Python"
   ]
  },
  {
   "cell_type": "code",
   "execution_count": 5,
   "id": "942fc534",
   "metadata": {},
   "outputs": [
    {
     "data": {
      "text/plain": [
       "25"
      ]
     },
     "execution_count": 5,
     "metadata": {},
     "output_type": "execute_result"
    }
   ],
   "source": [
    "(3*5)+10\n",
    "# This is a simple arithmetic expression to multiply then add integers"
   ]
  },
  {
   "cell_type": "code",
   "execution_count": 7,
   "id": "a81b1135",
   "metadata": {},
   "outputs": [
    {
     "data": {
      "text/plain": [
       "3.3333333333333335"
      ]
     },
     "execution_count": 7,
     "metadata": {},
     "output_type": "execute_result"
    }
   ],
   "source": [
    "# This will convert 200 minutes to hours by dividing by 60\n",
    "200/60"
   ]
  },
  {
   "cell_type": "markdown",
   "id": "9ba053b5",
   "metadata": {},
   "source": [
    "The Objectives are:\n",
    "- To provide with the basic knowledge of Data Science\n",
    "- To develop solutions using Data Science tools\n",
    "- To introduce Python Packages and their usability"
   ]
  },
  {
   "cell_type": "markdown",
   "id": "4c955d69",
   "metadata": {},
   "source": [
    "# Author(s)\n",
    "HASIB"
   ]
  },
  {
   "cell_type": "code",
   "execution_count": null,
   "id": "ca7f216f",
   "metadata": {},
   "outputs": [],
   "source": []
  }
 ],
 "metadata": {
  "kernelspec": {
   "display_name": "Python 3 (ipykernel)",
   "language": "python",
   "name": "python3"
  },
  "language_info": {
   "codemirror_mode": {
    "name": "ipython",
    "version": 3
   },
   "file_extension": ".py",
   "mimetype": "text/x-python",
   "name": "python",
   "nbconvert_exporter": "python",
   "pygments_lexer": "ipython3",
   "version": "3.11.3"
  }
 },
 "nbformat": 4,
 "nbformat_minor": 5
}
